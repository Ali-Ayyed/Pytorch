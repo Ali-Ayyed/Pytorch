{
  "nbformat": 4,
  "nbformat_minor": 0,
  "metadata": {
    "colab": {
      "name": "Pytorch1.ipynb",
      "provenance": []
    },
    "kernelspec": {
      "name": "python3",
      "display_name": "Python 3"
    },
    "language_info": {
      "name": "python"
    }
  },
  "cells": [
    {
      "cell_type": "code",
      "metadata": {
        "id": "jTpddjuls3IM"
      },
      "source": [
        "!pip3 install torch==1.8.1+cu111 torchvision==0.9.1+cu111 torchaudio===0.8.1 -f https://download.pytorch.org/whl/torch_stable.html"
      ],
      "execution_count": null,
      "outputs": []
    },
    {
      "cell_type": "code",
      "metadata": {
        "id": "4ROen8_At5jq"
      },
      "source": [
        "import torch as t"
      ],
      "execution_count": null,
      "outputs": []
    },
    {
      "cell_type": "code",
      "metadata": {
        "id": "4s7Ji1E_t5u3"
      },
      "source": [
        "x = t.Tensor([3,3,4])\n",
        "y = t.Tensor([4,2,5])\n",
        "\n",
        "print(x * y)"
      ],
      "execution_count": null,
      "outputs": []
    },
    {
      "cell_type": "code",
      "metadata": {
        "id": "i2EStJb5t5xk"
      },
      "source": [
        "import torch\n",
        "import torchvision\n",
        "from torchvision import transforms, datasets\n",
        "\n",
        "\n",
        "train = datasets.MNIST('', train=True,download=True,\n",
        "                          transform=transforms.Compose([transforms.ToTensor]))\n",
        "\n",
        "\n",
        "test = datasets.MNIST('', train=False,download=True,\n",
        "                          transform=transforms.Compose([transforms.ToTensor]))"
      ],
      "execution_count": null,
      "outputs": []
    },
    {
      "cell_type": "code",
      "metadata": {
        "id": "cBJ362QUt50R"
      },
      "source": [
        "trainset = torch.utils.data.DataLoader(train,batch_size=10,shuffle=True)\n",
        "testset = torch.utils.data.DataLoader(test,batch_size=10,shuffle=False)"
      ],
      "execution_count": null,
      "outputs": []
    },
    {
      "cell_type": "code",
      "metadata": {
        "id": "GZhI6MNnt524"
      },
      "source": [
        "import torch.nn as nn\n",
        "import torch.nn.functional as f\n",
        "\n"
      ],
      "execution_count": null,
      "outputs": []
    },
    {
      "cell_type": "code",
      "metadata": {
        "colab": {
          "base_uri": "https://localhost:8080/"
        },
        "id": "K8_2-o4_t55k",
        "outputId": "bc0d41f2-9ec0-48d4-d496-5d01ba23b411"
      },
      "source": [
        "class Net(nn.Module):\n",
        "  def __init__(self):\n",
        "    super().__init__()\n",
        "    self.fullyc1 = nn.Linear(28 * 28, 64)  # 28 * 28=784\n",
        "    self.fullyc2 = nn.Linear(64, 64)\n",
        "    self.fullyc3 = nn.Linear(64, 64)\n",
        "    self.fullyc4 = nn.Linear(64, 10)\n",
        "\n",
        "  def forward(self, x):\n",
        "    x = f.relu(self.fullyc1(x))\n",
        "    x = f.relu(self.fullyc2(x))\n",
        "    x = f.relu(self.fullyc3(x))\n",
        "    x = self.fullyc4(x)\n",
        "    return f.log_softmax(x, dim=1)\n",
        "\n",
        "\n",
        "net = Net()\n",
        "print(net)"
      ],
      "execution_count": null,
      "outputs": [
        {
          "output_type": "stream",
          "text": [
            "Net(\n",
            "  (fullyc1): Linear(in_features=784, out_features=64, bias=True)\n",
            "  (fullyc2): Linear(in_features=64, out_features=64, bias=True)\n",
            "  (fullyc3): Linear(in_features=64, out_features=64, bias=True)\n",
            "  (fullyc4): Linear(in_features=64, out_features=10, bias=True)\n",
            ")\n"
          ],
          "name": "stdout"
        }
      ]
    },
    {
      "cell_type": "code",
      "metadata": {
        "id": "032S9bcZt58m"
      },
      "source": [
        "import torch.optim as optim\n",
        "\n",
        "optimzer = optim.Adam(net.parameters(), lr= 0.001)\n",
        "\n",
        "\n",
        "epochs = 5\n",
        "\n",
        "for epoch in range(epochs):\n",
        "  for data in trainset:\n",
        "    X, y = data\n",
        "    net.zero_grad()\n",
        "    output = net(X.view(-1,28*28))\n",
        "    loss = f.nll_loss(output, y)\n",
        "    loss.backward()\n",
        "    optimzer.step()\n",
        "     "
      ],
      "execution_count": null,
      "outputs": []
    },
    {
      "cell_type": "code",
      "metadata": {
        "id": "k920gePbt6BB"
      },
      "source": [
        "correct = 0 \n",
        "total = 0\n",
        "\n",
        "with torch.no_grad():\n",
        "  for data in trainset:\n",
        "    X,y = data \n",
        "    output = net(X.view(-1,28*28))\n",
        "    for idx, i in enumerate(output):\n",
        "      if torch.argmax(i)== y[idx]:\n",
        "        correct += 1\n",
        "      total += 1\n",
        "print(\"Acc:\" round(correct/total, 3))\n",
        "\n"
      ],
      "execution_count": null,
      "outputs": []
    },
    {
      "cell_type": "code",
      "metadata": {
        "id": "PCxaCkJwt6F7"
      },
      "source": [
        ""
      ],
      "execution_count": null,
      "outputs": []
    },
    {
      "cell_type": "code",
      "metadata": {
        "id": "3iIW69uYt6Jj"
      },
      "source": [
        ""
      ],
      "execution_count": null,
      "outputs": []
    }
  ]
}